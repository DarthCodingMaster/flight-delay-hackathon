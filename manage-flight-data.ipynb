{
 "cells": [
  {
   "cell_type": "markdown",
   "metadata": {},
   "source": [
    "# Import Required Libraries\n",
    "Import the necessary libraries, including pandas, NumPy, and scikit-learn."
   ]
  },
  {
   "cell_type": "code",
   "execution_count": 13,
   "metadata": {},
   "outputs": [],
   "source": [
    "import pandas as pd\n",
    "import numpy as np\n",
    "from sklearn.model_selection import train_test_split\n",
    "from sklearn.ensemble import RandomForestClassifier\n",
    "from sklearn.linear_model import LogisticRegression\n",
    "from sklearn.metrics import accuracy_score, classification_report\n",
    "import joblib\n"
   ]
  },
  {
   "cell_type": "markdown",
   "metadata": {},
   "source": [
    "# Load and Preprocess Data\n",
    "Load the flight data from a CSV file, handle missing values, and perform initial data cleaning."
   ]
  },
  {
   "cell_type": "code",
   "execution_count": 14,
   "metadata": {},
   "outputs": [
    {
     "name": "stdout",
     "output_type": "stream",
     "text": [
      "Renamed columns in the dataset:\n",
      "Index(['Year', 'Month', 'DayofMonth', 'DayOfWeek', 'Carrier',\n",
      "       'OriginAirportID', 'OriginAirportName', 'OriginCity', 'OriginState',\n",
      "       'DestAirportID', 'DestAirportName', 'DestCity', 'DestState',\n",
      "       'CRSDepTime', 'DepDelay', 'DepDel15', 'CRSArrTime', 'ArrDelay',\n",
      "       'ArrDel15', 'Cancelled'],\n",
      "      dtype='object')\n",
      "\n",
      "Null values in the DataFrame:\n",
      "Year                    0\n",
      "Month                   0\n",
      "DayofMonth              0\n",
      "DayOfWeek               0\n",
      "Carrier                 0\n",
      "OriginAirportID         0\n",
      "OriginAirportName       0\n",
      "OriginCity              0\n",
      "OriginState             0\n",
      "DestAirportID           0\n",
      "DestAirportName         0\n",
      "DestCity                0\n",
      "DestState               0\n",
      "CRSDepTime              0\n",
      "DepDelay                0\n",
      "DepDel15             2761\n",
      "CRSArrTime              0\n",
      "ArrDelay                0\n",
      "ArrDel15                0\n",
      "Cancelled               0\n",
      "dtype: int64\n"
     ]
    }
   ],
   "source": [
    "# Load the flight data from a CSV file\n",
    "flight_data = pd.read_csv('data/flights.csv')\n",
    "\n",
    "# Print the renamed columns to verify\n",
    "print(\"Renamed columns in the dataset:\")\n",
    "print(flight_data.columns)\n",
    "\n",
    "# Identify null values\n",
    "print(\"\\nNull values in the DataFrame:\")\n",
    "print(flight_data.isnull().sum())\n",
    "\n",
    "# Replace null values with zero\n",
    "# flight_data.fillna(0, inplace=True)\n",
    "flight_data['DepDel15'].fillna(0, inplace=True)\n",
    "flight_data['ArrDel15'].fillna(0, inplace=True)\n",
    "\n",
    "# Create a binary target variable 'DELAYED' using  DepDelay15 or ArrDelay15\n",
    "flight_data['DELAYED'] = np.where((flight_data['ArrDel15'] == 1), 1, 0)\n"
   ]
  },
  {
   "cell_type": "code",
   "execution_count": null,
   "metadata": {},
   "outputs": [],
   "source": []
  },
  {
   "cell_type": "code",
   "execution_count": null,
   "metadata": {},
   "outputs": [],
   "source": []
  },
  {
   "cell_type": "markdown",
   "metadata": {},
   "source": [
    "# Feature Engineering\n",
    "Create new features that may help in predicting flight delays, such as day of the week, month, and airport pair."
   ]
  },
  {
   "cell_type": "code",
   "execution_count": 15,
   "metadata": {},
   "outputs": [],
   "source": [
    "x = flight_data[['DayOfWeek', 'DestAirportID']]\n",
    "y = flight_data['DELAYED']"
   ]
  },
  {
   "cell_type": "markdown",
   "metadata": {},
   "source": [
    "# Split Data into Training and Testing Sets\n",
    "Split the dataset into training and testing sets to evaluate the model's performance."
   ]
  },
  {
   "cell_type": "code",
   "execution_count": 16,
   "metadata": {},
   "outputs": [
    {
     "name": "stdout",
     "output_type": "stream",
     "text": [
      "\n",
      "Shapes of the training and testing sets:\n",
      "X_train: (203955, 2), X_test: (67985, 2)\n",
      "y_train: (203955,), y_test: (67985,)\n"
     ]
    }
   ],
   "source": [
    "# Split the data into training and testing sets\n",
    "X_train, X_test, y_train, y_test = train_test_split(x, y)\n",
    "\n",
    "# Display the shapes of the training and testing sets\n",
    "print(\"\\nShapes of the training and testing sets:\")\n",
    "print(f\"X_train: {X_train.shape}, X_test: {X_test.shape}\")\n",
    "print(f\"y_train: {y_train.shape}, y_test: {y_test.shape}\")"
   ]
  },
  {
   "cell_type": "markdown",
   "metadata": {},
   "source": [
    "# Train the Model\n",
    "Use a machine learning algorithm, such as logistic regression or random forest, to train the model on the training data."
   ]
  },
  {
   "cell_type": "code",
   "execution_count": 17,
   "metadata": {},
   "outputs": [
    {
     "name": "stdout",
     "output_type": "stream",
     "text": [
      "Model accuracy: 78.41%\n"
     ]
    }
   ],
   "source": [
    "# Train the Model\n",
    "# Use a machine learning algorithm, such as logistic regression or random forest, to train the model on the training data.\n",
    "\n",
    "# Create the model with valid feature names\n",
    "# model = RandomForestClassifier(n_estimators=100, random_state=42)\n",
    "model = LogisticRegression(solver='lbfgs')\n",
    "\n",
    "# Train the model on the training data\n",
    "model.fit(X_train, y_train)\n",
    "\n",
    "# Calculate the accuracy of the model\n",
    "accuracy = model.score(X_test, y_test)\n",
    "# report = classification_report(y_test, y_pred)\n",
    "\n",
    "# Display the accuracy and classification report\n",
    "print(f\"Model accuracy: {accuracy * 100:.2f}%\")\n",
    "# print(\"Classification Report:\")\n",
    "# print(report)"
   ]
  },
  {
   "cell_type": "markdown",
   "metadata": {},
   "source": [
    "Write the prediction model to file."
   ]
  },
  {
   "cell_type": "code",
   "execution_count": 18,
   "metadata": {},
   "outputs": [
    {
     "name": "stdout",
     "output_type": "stream",
     "text": [
      "Model saved to 'server/flight_delay_model.pkl'\n"
     ]
    }
   ],
   "source": [
    "# Save the model to a file\n",
    "#pickle.dump(model, open('data/model.pkl', 'wb'))\n",
    "joblib.dump(model, 'server/flight_delay_model.pkl')\n",
    "print(\"Model saved to 'server/flight_delay_model.pkl'\")"
   ]
  },
  {
   "cell_type": "code",
   "execution_count": 19,
   "metadata": {},
   "outputs": [
    {
     "name": "stdout",
     "output_type": "stream",
     "text": [
      "Airports data has been saved to 'data/airports.csv'\n"
     ]
    }
   ],
   "source": [
    "# Load the flight data from the CSV file\n",
    "flight_data = pd.read_csv('data/flights.csv')\n",
    "\n",
    "# Extract unique airport IDs and names for origin and destination airports\n",
    "origin_airports = flight_data[['OriginAirportID', 'OriginAirportName']].drop_duplicates()\n",
    "dest_airports = flight_data[['DestAirportID', 'DestAirportName']].drop_duplicates()\n",
    "\n",
    "# Rename columns for consistency\n",
    "origin_airports.columns = ['AirportID', 'AirportName']\n",
    "dest_airports.columns = ['AirportID', 'AirportName']\n",
    "\n",
    "#combine origin and destination airports into one list with AirportID and AirportName only and remove duplicates\n",
    "unique_airports = pd.concat([origin_airports, dest_airports]).drop_duplicates()\n",
    "\n",
    "# Save the unique airport IDs and names to a new CSV file\n",
    "unique_airports.to_csv('data/airports.csv', index=False)\n",
    "\n",
    "print(\"Airports data has been saved to 'data/airports.csv'\")"
   ]
  }
 ],
 "metadata": {
  "kernelspec": {
   "display_name": "base",
   "language": "python",
   "name": "python3"
  },
  "language_info": {
   "codemirror_mode": {
    "name": "ipython",
    "version": 3
   },
   "file_extension": ".py",
   "mimetype": "text/x-python",
   "name": "python",
   "nbconvert_exporter": "python",
   "pygments_lexer": "ipython3",
   "version": "3.11.7"
  }
 },
 "nbformat": 4,
 "nbformat_minor": 2
}
